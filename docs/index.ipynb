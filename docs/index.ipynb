{
 "cells": [
  {
   "cell_type": "markdown",
   "metadata": {},
   "source": [
    "# Jupyter[Lab] Language Server Protocol\n",
    "\n",
    "This is the documentation for:\n",
    "\n",
    "- [jupyterlab-lsp](https://www.npmjs.com/package/@krassowski/jupyterlab-lsp)\n",
    "- [jupyter-lsp](https://pypi.org/project/jupyter-lsp/)\n",
    "\n",
    "Both are managed on [GitHub](https://github.com/krassowski/jupyterlab-lsp),\n",
    "where you can find the\n",
    "[issue tracker](https://github.com/krassowski/jupyterlab-lsp/issues)."
   ]
  },
  {
   "cell_type": "markdown",
   "metadata": {
    "nbsphinx-toctree": {
     "maxdepth": 2
    }
   },
   "source": [
    "## Getting Started\n",
    "\n",
    "- [Installation](./Installation.ipynb)\n",
    "- [Language Servers](./Language%20Servers.ipynb)\n",
    "- [Servers configuration](./Configuring.ipynb)"
   ]
  },
  {
   "cell_type": "markdown",
   "metadata": {
    "nbsphinx-toctree": {
     "maxdepth": 2
    }
   },
   "source": [
    "## Advanced Usage\n",
    "\n",
    "- [Contributing](./Contributing.ipynb)\n",
    "- [Extending](./Extending.ipynb)\n",
    "- [Releasing](./Releasing.ipynb)"
   ]
  },
  {
   "cell_type": "markdown",
   "metadata": {
    "nbsphinx-toctree": {
     "maxdepth": 2
    }
   },
   "source": [
    "## Project Information\n",
    "\n",
    "- [Changelog](./CHANGELOG.ipynb)\n",
    "- [Roadmap](./Roadmap.ipynb)\n",
    "- [Architecture](Architecture.ipynb)"
   ]
  }
 ],
 "metadata": {
  "kernelspec": {
   "display_name": "Python 3",
   "language": "python",
   "name": "python3"
  },
  "language_info": {
   "codemirror_mode": {
    "name": "ipython",
    "version": 3
   },
   "file_extension": ".py",
   "mimetype": "text/x-python",
   "name": "python",
   "nbconvert_exporter": "python",
   "pygments_lexer": "ipython3",
   "version": "3.7.9"
  }
 },
 "nbformat": 4,
 "nbformat_minor": 4
}
